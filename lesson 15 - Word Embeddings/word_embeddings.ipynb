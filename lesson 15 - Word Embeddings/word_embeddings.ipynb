{
 "cells": [
  {
   "cell_type": "markdown",
   "metadata": {},
   "source": [
    "# Word embeddings\n",
    "\n",
    "we can represent words from a dictionary as vectors using one-hot encoding where all components are zero except for one (one hot encoding). \n",
    "\n",
    "<img src=\"images/words-one-hot.png\">\n",
    "\n",
    "The advantage of such an encoding is that the calculation of a word vector and looking up a word given its vector is easy. On the other hand this form of encoding does not contain any information about the relationships of words between each other. An alternative sort of word vectors are **word embeddings**. In such vectors, each component of a vector reflects a different feature of a word meaning (e.g. age, sex, food/non-food, word type, etc…). Therefore the components can all have non-null values. Words that are semantically similar have similar values in the individual components. For visualization we could also reduce dimensionality to two (or three) dimensions, e.g. by applying the t-SNE algorithm. By doing so it turns out that words with similar meanings are in similar positions in vector space.\n",
    "\n",
    "<img src=\"images/vector-space.png\" width=\"300px\">\n",
    "\n",
    "## Properties of word embeddings\n",
    "\n",
    "Word embeddings have become hugely popular in NLP and can for example be used for NER. Oftentimes an existing model can be adjusted for a specific task by performing additional training on suitable training data (transfer learning). This training set and also the dimensionality of the word vectors can be much smaller. The relevance of a word embedding $e$ is simliar to the vector of a face in face recognition in computer vision: It is a vectorized representation of the underlying data. An important distinction however is that in order to get word embeddings a model needs to learn a fixed-size vocabulary, while face embeddings can work with any new image. Vectors for words outside this vocabulary can not be calculated. In contrast a CNN could calculate a vector for a face it has never seen before.\n",
    "\n",
    "Word embeddings are useful to model analogies and relationships between words:\n",
    "\n",
    "$$e_{man} - e_{woman} \\approx e_{king} - e_{queen}$$\n",
    "\n",
    "The distance between the vectors for “man” and “woman” is similar to the distance between the vectors for “king” and “queen”, because those two pairs of words are related in the same way. We can also observe that a trained model has learned the relationship between these two pairs of words because the vector representations of their distances is approximately parallel. This also applies to other kinds of word pairings, like verbs in different tenses or the relationship between a country and its capital:\n",
    "\n",
    "<img src=\"images/word-embeddings.png\">\n",
    "\n",
    "Therefore we could get an embedding by rearranging formula:\n",
    "$$e_{king} - e_{man} + e_{woman} \\approx e_{queen}$$\n",
    "\n",
    "This way the word embedding for “queen” can be calculated using the embeddings of the other words. To get the word for its embedding we can use a similarity function $sim$, which measures the similarity between two embeddings $u$ and $v$. Often the cosine similarity is used for this function:\n",
    "\n",
    "$$sim(u,v) = \\frac{u^T v}{\\lVert u\\rVert_2 \\lVert v \\rVert_2}$$\n",
    "\n",
    "With the help of the similarity function we can find the word for “queen” by comparing the embedding $e_queen$ against the embeddings of all other word from the vocabulary:\n",
    "\n",
    "$$w = \\underset{w}{\\operatorname{argmax}} sim(e_{queen}, e_{king} - e_{man} + e_{woman})$$\n",
    "\n",
    "## Word2Vec\n",
    "\n",
    "**Word2Vec (W2V)** is the probably most popular implementation for word embeddings. W2V contains two approaches:\n",
    "- Skip-Gram\n",
    "- CBOW (Continuous Bag Of Words)\n",
    "\n",
    "<img src=\"images/skip-gram-medium.webp\" width=\"500px\">\n",
    "\n",
    "### Skip-Grams\n",
    "\n",
    "One of the most famous approaches to dense representation is word2vec, proposed by Google in 2013.\n",
    "\n",
    "We come up with few context-target pairs to create our supervised learning problem. We pick a random word from the sentence, then we take random number of words from a given windown ($\\pm k$). Usually the context words are not chosen with uniform random distribution but according to their frequency in the corpus. Frequent words have a lower probability for being selected as context words. \n",
    "\n",
    "<img src=\"images/skip grams.png\" width=\"500px\">\n",
    "\n",
    "The high-level idea of dense vector representation is to train two models: encoder and decoder. For example, in the case of skip-gram, we might pass the word “christmas” to the encoder. Then, the encoder will produce a vector that we pass to the decoder expecting to get the words “merry”, “to”, and “you”.\n",
    "\n",
    "<img src=\"images/skip gram high level model.webp\">\n",
    "\n",
    "This model started to take into account the meaning of the words since it’s trained on the context of the words. However, it ignores morphology (information we can get from the word parts, for example, that “-less” means the lack of something). This drawback was addressed later by looking at subword skip-grams in **GloVe**."
   ]
  },
  {
   "cell_type": "markdown",
   "metadata": {},
   "source": [
    "## Packages"
   ]
  },
  {
   "cell_type": "code",
   "execution_count": 1,
   "metadata": {},
   "outputs": [],
   "source": [
    "import os\n",
    "\n",
    "import numpy as np\n",
    "from tensorflow import data as tf_data\n",
    "from tensorflow import keras\n",
    "import pandas as pd\n",
    "from emo_utils import *\n",
    "import tensorflow as tf\n"
   ]
  },
  {
   "cell_type": "markdown",
   "metadata": {},
   "source": [
    "## Load Dataset: EMOJISET \n",
    "\n",
    "You have a tiny dataset (X, Y) where:\n",
    "- X contains 127 sentences (strings).\n",
    "- Y contains an integer label between 0 and 4 corresponding to an emoji for each sentence.\n",
    "\n",
    "<img src=\"images/data_set.png\" style=\"width:700px;height:300px;\">\n",
    "\n",
    "Load the dataset using the code below. The dataset is split between training (127 examples) and testing (56 examples)."
   ]
  },
  {
   "cell_type": "code",
   "execution_count": 2,
   "metadata": {},
   "outputs": [],
   "source": [
    "data = pd.read_csv('data/train_emoji.csv', names=[\"sentence\", \"emoji\", \"remove1\", \"remove_2\"])\n",
    "data.drop(columns=[\"remove1\", \"remove_2\"], inplace=True)\n",
    "data_test = pd.read_csv('data/tesss.csv', names=[\"sentence\", \"emoji\"])"
   ]
  },
  {
   "cell_type": "code",
   "execution_count": 3,
   "metadata": {},
   "outputs": [],
   "source": [
    "X_train, y_train = data[\"sentence\"], data[\"emoji\"]\n",
    "X_test, y_test = data_test[\"sentence\"], data_test[\"emoji\"]"
   ]
  },
  {
   "cell_type": "code",
   "execution_count": 4,
   "metadata": {},
   "outputs": [
    {
     "name": "stdout",
     "output_type": "stream",
     "text": [
      "never talk to me again 😞\n",
      "I am proud of your achievements 😄\n",
      "It is the worst day in my life 😞\n",
      "Miss you so much ❤️\n",
      "food is life 🍴\n",
      "I love you mum ❤️\n",
      "Stop saying bullshit 😞\n",
      "congratulations on your acceptance 😄\n",
      "The assignment is too long  😞\n",
      "I want to go play ⚾️\n"
     ]
    }
   ],
   "source": [
    "for idx in range(10):\n",
    "    print(X_train[idx], label_to_emoji(y_train[idx]))"
   ]
  },
  {
   "cell_type": "markdown",
   "metadata": {},
   "source": [
    "In the below code cell, you will find out the sentence with the maximum number of words, and will store it's length in `maxLen` (*i.e., the number of words in the longest sentence, which will be used further*). Let's break down this code for a better understanding.\n",
    "\n",
    "- The first point to note here is that `split()` breaks a string into a list of it's words. So, if `x` is a string, then `len(x.split())` returns the number of words in that string. You can read more about `split` [here](https://docs.python.org/3/library/stdtypes.html?highlight=split#str.split).\n",
    "\n",
    "- The second point to note here is the way in which `max` function has been used. As can be read [here](https://docs.python.org/3/library/functions.html#max), apart from an iterable (*which in your case is `X_train`, a list of strings*), this function also has a `key` argument, that can be used to modify the basis on which the largest element in the iterable is chosen.\n",
    "\n",
    "In this case, `key` has been chosen as the number of words in a string. So the `max` function will return the string with the largest number of words."
   ]
  },
  {
   "cell_type": "code",
   "execution_count": 5,
   "metadata": {},
   "outputs": [
    {
     "data": {
      "text/plain": [
       "10"
      ]
     },
     "execution_count": 5,
     "metadata": {},
     "output_type": "execute_result"
    }
   ],
   "source": [
    "maxLen = len(max(X_train, key=lambda x: len(x.split())).split())\n",
    "maxLen"
   ]
  },
  {
   "cell_type": "markdown",
   "metadata": {},
   "source": [
    "## Create a Vocabulary index"
   ]
  },
  {
   "cell_type": "code",
   "execution_count": 6,
   "metadata": {},
   "outputs": [],
   "source": [
    "vectorizer = keras.layers.TextVectorization(max_tokens=40000, output_sequence_length=10)\n",
    "text_ds = tf_data.Dataset.from_tensor_slices(X_train)\n",
    "vectorizer.adapt(text_ds)"
   ]
  },
  {
   "cell_type": "code",
   "execution_count": 7,
   "metadata": {},
   "outputs": [
    {
     "data": {
      "text/plain": [
       "['', '[UNK]', 'i', 'you', 'is']"
      ]
     },
     "execution_count": 7,
     "metadata": {},
     "output_type": "execute_result"
    }
   ],
   "source": [
    "vectorizer.get_vocabulary()[:5]"
   ]
  },
  {
   "cell_type": "code",
   "execution_count": 8,
   "metadata": {},
   "outputs": [
    {
     "data": {
      "text/plain": [
       "262"
      ]
     },
     "execution_count": 8,
     "metadata": {},
     "output_type": "execute_result"
    }
   ],
   "source": [
    "len(vectorizer.get_vocabulary())\n"
   ]
  },
  {
   "cell_type": "code",
   "execution_count": 9,
   "metadata": {},
   "outputs": [
    {
     "data": {
      "text/plain": [
       "array([ 5,  1,  1, 39,  5,  1], dtype=int64)"
      ]
     },
     "execution_count": 9,
     "metadata": {},
     "output_type": "execute_result"
    }
   ],
   "source": [
    "output = vectorizer([[\"the cat sat on the mat\"]])\n",
    "output.numpy()[0, :6]"
   ]
  },
  {
   "cell_type": "code",
   "execution_count": 10,
   "metadata": {},
   "outputs": [],
   "source": [
    "voc = vectorizer.get_vocabulary()\n",
    "word_index = dict(zip(voc, range(len(voc))))"
   ]
  },
  {
   "cell_type": "code",
   "execution_count": 11,
   "metadata": {},
   "outputs": [
    {
     "data": {
      "text/plain": [
       "[2, 21, 10, 209, 227, 27]"
      ]
     },
     "execution_count": 11,
     "metadata": {},
     "output_type": "execute_result"
    }
   ],
   "source": [
    "test = [\"i\", \"love\", \"to\",  \"eat\", \"chinese\", \"food\"]\n",
    "[word_index[w] for w in test]"
   ]
  },
  {
   "cell_type": "markdown",
   "metadata": {},
   "source": [
    "#### One-hot Encoding\n",
    "* To get your labels into a format suitable for training a softmax classifier, convert $Y$ from its current shape  $(m, 1)$ into a \"one-hot representation\" $(m, 5)$, "
   ]
  },
  {
   "cell_type": "code",
   "execution_count": 12,
   "metadata": {},
   "outputs": [],
   "source": [
    "train_labels = keras.utils.to_categorical(y_train)\n",
    "test_labels = keras.utils.to_categorical(y_test)"
   ]
  },
  {
   "cell_type": "code",
   "execution_count": 13,
   "metadata": {},
   "outputs": [
    {
     "name": "stdout",
     "output_type": "stream",
     "text": [
      "Sentence 'I missed you' has label index 0, which is emoji ❤️\n",
      "Label index 0 in one-hot encoding format is [1. 0. 0. 0. 0.]\n"
     ]
    }
   ],
   "source": [
    "idx = 50\n",
    "print(f\"Sentence '{X_train[idx]}' has label index {y_train[idx]}, which is emoji {label_to_emoji(y_train[idx])}\", )\n",
    "print(f\"Label index {y_train[idx]} in one-hot encoding format is {train_labels[idx]}\")"
   ]
  },
  {
   "cell_type": "markdown",
   "metadata": {},
   "source": [
    "## Load pre-trained word embeddings"
   ]
  },
  {
   "cell_type": "code",
   "execution_count": 14,
   "metadata": {},
   "outputs": [
    {
     "name": "stdout",
     "output_type": "stream",
     "text": [
      "[ 0.45281  -0.50108  -0.53714  -0.015697  0.22191   0.54602  -0.67301\n",
      " -0.6891    0.63493  -0.19726   0.33685   0.7735    0.90094   0.38488\n",
      "  0.38367   0.2657   -0.08057   0.61089  -1.2894   -0.22313  -0.61578\n",
      "  0.21697   0.35614   0.44499   0.60885  -1.1633   -1.1579    0.36118\n",
      "  0.10466  -0.78325   1.4352    0.18629  -0.26112   0.83275  -0.23123\n",
      "  0.32481   0.14485  -0.44552   0.33497  -0.95946  -0.097479  0.48138\n",
      " -0.43352   0.69455   0.91043  -0.28173   0.41637  -1.2609    0.71278\n",
      "  0.23782 ]\n",
      "Found 400000 word vectors.\n"
     ]
    }
   ],
   "source": [
    "path_to_glove_file = \"data/glove.6B.50d.txt\"\n",
    "\n",
    "embeddings_index = {}\n",
    "with open(path_to_glove_file) as f:\n",
    "    for line in f:\n",
    "        word, coefs = line.split(maxsplit=1)\n",
    "        coefs = np.fromstring(coefs, \"f\", sep=\" \")\n",
    "        embeddings_index[word] = coefs\n",
    "\n",
    "print(embeddings_index[\"cat\"])\n",
    "print(\"Found %s word vectors.\" % len(embeddings_index))"
   ]
  },
  {
   "cell_type": "markdown",
   "metadata": {},
   "source": [
    " However, most deep learning frameworks require that all sequences in the same mini-batch have the **same length**. \n",
    "\n",
    "This is what allows vectorization to work: If you had a 3-word sentence and a 4-word sentence, then the computations needed for them are different (one takes 3 steps of an LSTM, one takes 4 steps) so it's just not possible to do them both at the same time.\n",
    "    \n",
    "#### Padding Handles Sequences of Varying Length\n",
    "* The common solution to handling sequences of **different length** is to use padding.  Specifically:\n",
    "    * Set a maximum sequence length\n",
    "    * Pad all sequences to have the same length. \n",
    "    \n",
    "#### Example of Padding:\n",
    "* Given a maximum sequence length of 20, you could pad every sentence with \"0\"s so that each input sentence is of length 20. \n",
    "* Thus, the sentence \"I love you\" would be represented as $(e_{I}, e_{love}, e_{you}, \\vec{0}, \\vec{0}, \\ldots, \\vec{0})$. \n",
    "* In this example, any sentences longer than 20 words would have to be truncated. \n",
    "* One way to choose the maximum sequence length is to just pick the length of the longest sentence in the training set. \n",
    "  \n",
    "### The Embedding Layer\n",
    "\n",
    "In Keras, the embedding matrix is represented as a \"layer.\"\n",
    "\n",
    "* The embedding matrix maps word indices to embedding vectors.\n",
    "    * The word indices are positive integers.\n",
    "    * The embedding vectors are dense vectors of fixed size.\n",
    "    * A \"dense\" vector is the opposite of a sparse vector. It means that most of its values are non-zero.  As a counter-example, a one-hot encoded vector is not \"dense.\"\n",
    "* The embedding matrix can be derived in two ways:\n",
    "    * Training a model to derive the embeddings from scratch. \n",
    "    * Using a pretrained embedding.\n",
    "    \n",
    "#### Using and Updating Pre-trained Embeddings\n",
    "In this section, you'll create an [Embedding()](https://www.tensorflow.org/api_docs/python/tf/keras/layers/Embedding) layer in Keras\n",
    "\n",
    "* You will initialize the Embedding layer with GloVe 50-dimensional vectors. \n",
    "* In the code below, you'll observe how Keras allows you to either train or leave this layer fixed.  \n",
    "    * Because your training set is quite small, you'll leave the GloVe embeddings fixed instead of updating them.\n",
    "\n",
    "#### Inputs and Outputs to the Embedding Layer\n",
    "\n",
    "* The `Embedding()` layer's input is an integer matrix of size **(batch size, max input length)**. \n",
    "    * This input corresponds to sentences converted into lists of indices (integers).\n",
    "    * The largest integer (the highest word index) in the input should be no larger than the vocabulary size.\n",
    "* The embedding layer outputs an array of shape (batch size, max input length, dimension of word vectors).\n",
    "\n",
    "* The figure shows the propagation of two example sentences through the embedding layer. \n",
    "    * Both examples have been zero-padded to a length of `max_len=5`.\n",
    "    * The word embeddings are 50 units in length.\n",
    "    * The final dimension of the representation is  `(2,max_len,50)`. \n",
    "\n",
    "<img src=\"images/embedding1.png\" style=\"width:700px;height:250px;\">"
   ]
  },
  {
   "cell_type": "code",
   "execution_count": 15,
   "metadata": {},
   "outputs": [
    {
     "name": "stdout",
     "output_type": "stream",
     "text": [
      "Converted 260 words (2 misses)\n"
     ]
    }
   ],
   "source": [
    "num_tokens = len(embeddings_index) + 2\n",
    "embedding_dim = 50\n",
    "hits = 0\n",
    "misses = 0\n",
    "\n",
    "# Prepare embedding matrix\n",
    "embedding_matrix = np.zeros((num_tokens, embedding_dim))\n",
    "for word, i in word_index.items():\n",
    "    embedding_vector = embeddings_index.get(word)\n",
    "    if embedding_vector is not None:\n",
    "        # Words not found in embedding index will be all-zeros.\n",
    "        # This includes the representation for \"padding\" and \"OOV\"\n",
    "        embedding_matrix[i] = embedding_vector\n",
    "        hits += 1\n",
    "    else:\n",
    "        misses += 1\n",
    "print(\"Converted %d words (%d misses)\" % (hits, misses))"
   ]
  },
  {
   "cell_type": "code",
   "execution_count": 76,
   "metadata": {},
   "outputs": [],
   "source": [
    "embedding_layer = keras.layers.Embedding(\n",
    "    num_tokens,\n",
    "    embedding_dim,\n",
    "    trainable=False,\n",
    ")\n",
    "embedding_layer.build((None,))\n",
    "embedding_layer.set_weights([embedding_matrix])"
   ]
  },
  {
   "cell_type": "code",
   "execution_count": null,
   "metadata": {},
   "outputs": [],
   "source": [
    "# UNQ_C4 (UNIQUE CELL IDENTIFIER, DO NOT EDIT)\n",
    "# GRADED FUNCTION: pretrained_embedding_layer\n",
    "\n",
    "def pretrained_embedding_layer(word_to_vec_map, word_to_index):\n",
    "    \"\"\"\n",
    "    Creates a Keras Embedding() layer and loads in pre-trained GloVe 50-dimensional vectors.\n",
    "    \n",
    "    Arguments:\n",
    "    word_to_vec_map -- dictionary mapping words to their GloVe vector representation.\n",
    "    word_to_index -- dictionary mapping from words to their indices in the vocabulary (400,001 words)\n",
    "\n",
    "    Returns:\n",
    "    embedding_layer -- pretrained layer Keras instance\n",
    "    \"\"\"\n",
    "    \n",
    "    vocab_size = len(word_to_index) + 1              # adding 1 to fit Keras embedding (requirement)\n",
    "    any_word = list(word_to_vec_map.keys())[0]\n",
    "    emb_dim = word_to_vec_map[any_word].shape[0]    # define dimensionality of your GloVe word vectors (= 50)\n",
    "      \n",
    "    ### START CODE HERE ###\n",
    "    # Step 1\n",
    "    # Initialize the embedding matrix as a numpy array of zeros.\n",
    "    # See instructions above to choose the correct shape.\n",
    "    emb_matrix = np.zeros((vocab_size, emb_dim))\n",
    "    \n",
    "    # Step 2\n",
    "    # Set each row \"idx\" of the embedding matrix to be \n",
    "    # the word vector representation of the idx'th word of the vocabulary\n",
    "    for word, idx in word_to_index.items():\n",
    "        emb_matrix[idx, :] = word_to_vec_map[word]\n",
    "\n",
    "    # Step 3\n",
    "    # Define Keras embedding layer with the correct input and output sizes\n",
    "    # Make it non-trainable.\n",
    "    embedding_layer = Embedding(vocab_size, emb_dim, trainable = False)\n",
    "    ### END CODE HERE ###\n",
    "\n",
    "    # Step 4 (already done for you; please do not modify)\n",
    "    # Build the embedding layer, it is required before setting the weights of the embedding layer. \n",
    "    embedding_layer.build((None,)) # Do not modify the \"None\".  This line of code is complete as-is.\n",
    "    \n",
    "    # Set the weights of the embedding layer to the embedding matrix. Your layer is now pretrained.\n",
    "    embedding_layer.set_weights([emb_matrix])\n",
    "    \n",
    "    return embedding_layer"
   ]
  },
  {
   "cell_type": "markdown",
   "metadata": {},
   "source": [
    "## Build the model"
   ]
  },
  {
   "cell_type": "markdown",
   "metadata": {},
   "source": [
    "### 2.1 - Model Overview\n",
    "\n",
    "Here is the Emojifier-v2 you will implement:\n",
    "\n",
    "<img src=\"images/emojifier-v2.png\" style=\"width:700px;height:400px;\">"
   ]
  },
  {
   "cell_type": "code",
   "execution_count": 87,
   "metadata": {},
   "outputs": [
    {
     "name": "stdout",
     "output_type": "stream",
     "text": [
      "Model: \"model_20\"\n",
      "_________________________________________________________________\n",
      " Layer (type)                Output Shape              Param #   \n",
      "=================================================================\n",
      " input_21 (InputLayer)       [(None, None)]            0         \n",
      "                                                                 \n",
      " embedding_1 (Embedding)     (None, None, 50)          20000100  \n",
      "                                                                 \n",
      " lstm_22 (LSTM)              (None, None, 128)         91648     \n",
      "                                                                 \n",
      " dropout_24 (Dropout)        (None, None, 128)         0         \n",
      "                                                                 \n",
      " lstm_23 (LSTM)              (None, 128)               131584    \n",
      "                                                                 \n",
      " dropout_25 (Dropout)        (None, 128)               0         \n",
      "                                                                 \n",
      " dense_12 (Dense)            (None, 5)                 645       \n",
      "                                                                 \n",
      "=================================================================\n",
      "Total params: 20,223,977\n",
      "Trainable params: 223,877\n",
      "Non-trainable params: 20,000,100\n",
      "_________________________________________________________________\n"
     ]
    }
   ],
   "source": [
    "int_sequences_input = keras.Input(shape=(None,), dtype=\"int32\")\n",
    "embedded_sequences = embedding_layer(int_sequences_input)\n",
    "\n",
    "# Propagate the embeddings through an LSTM layer with 128-dimensional hidden state\n",
    "# The returned output should be a batch of sequences.\n",
    "X = keras.layers.LSTM(128, return_sequences=True)(embedded_sequences)\n",
    "\n",
    "# Add dropout with a probability of 0.5\n",
    "X =  keras.layers.Dropout(0.5)(X)\n",
    "\n",
    "# Propagate X trough another LSTM layer with 128-dimensional hidden state\n",
    "# The returned output should be a single hidden state, not a batch of sequences.\n",
    "X =  keras.layers.LSTM(128)(X)\n",
    "\n",
    "# Add dropout with a probability of 0.5\n",
    "X =  keras.layers.Dropout(0.5)(X)\n",
    "\n",
    "# Propagate X through a Dense layer with 5 units\n",
    "outputs =  keras.layers.Dense(5)(X)\n",
    "\n",
    "model = keras.Model(int_sequences_input, outputs)\n",
    "model.summary()"
   ]
  },
  {
   "cell_type": "code",
   "execution_count": 88,
   "metadata": {},
   "outputs": [],
   "source": [
    "x_train = vectorizer(np.array([[s] for s in X_train])).numpy()\n",
    "x_val = vectorizer(np.array([[s] for s in X_test])).numpy()\n",
    "\n",
    "y_train = np.array(train_labels)\n",
    "y_val = np.array(test_labels)"
   ]
  },
  {
   "cell_type": "code",
   "execution_count": 89,
   "metadata": {},
   "outputs": [
    {
     "data": {
      "text/plain": [
       "<tf.Tensor: shape=(3, 10), dtype=int64, numpy=\n",
       "array([[ 33,  64,   0,   0,   0,   0,   0,   0,   0,   0],\n",
       "       [ 43, 140,  34,   0,   0,   0,   0,   0,   0,   0],\n",
       "       [ 27,   4, 131,  12,   3,   0,   0,   0,   0,   0]], dtype=int64)>"
      ]
     },
     "execution_count": 89,
     "metadata": {},
     "output_type": "execute_result"
    }
   ],
   "source": [
    "vectorizer([\"funny lol\", \"lets play baseball\", \"food is ready for you\"])"
   ]
  },
  {
   "cell_type": "code",
   "execution_count": 90,
   "metadata": {},
   "outputs": [
    {
     "name": "stdout",
     "output_type": "stream",
     "text": [
      "Epoch 1/40\n"
     ]
    },
    {
     "name": "stdout",
     "output_type": "stream",
     "text": [
      "5/5 [==============================] - 8s 473ms/step - loss: 1.5894 - accuracy: 0.2576 - val_loss: 1.5264 - val_accuracy: 0.2857\n",
      "Epoch 2/40\n",
      "5/5 [==============================] - 0s 56ms/step - loss: 1.4821 - accuracy: 0.3636 - val_loss: 1.4894 - val_accuracy: 0.3393\n",
      "Epoch 3/40\n",
      "5/5 [==============================] - 0s 66ms/step - loss: 1.4532 - accuracy: 0.3636 - val_loss: 1.4574 - val_accuracy: 0.3571\n",
      "Epoch 4/40\n",
      "5/5 [==============================] - 0s 41ms/step - loss: 1.3492 - accuracy: 0.4545 - val_loss: 1.3925 - val_accuracy: 0.5179\n",
      "Epoch 5/40\n",
      "5/5 [==============================] - 0s 46ms/step - loss: 1.2472 - accuracy: 0.5909 - val_loss: 1.3088 - val_accuracy: 0.5000\n",
      "Epoch 6/40\n",
      "5/5 [==============================] - 0s 52ms/step - loss: 1.1291 - accuracy: 0.6364 - val_loss: 1.2305 - val_accuracy: 0.5714\n",
      "Epoch 7/40\n",
      "5/5 [==============================] - 0s 36ms/step - loss: 0.9880 - accuracy: 0.6818 - val_loss: 1.1889 - val_accuracy: 0.5536\n",
      "Epoch 8/40\n",
      "5/5 [==============================] - 0s 50ms/step - loss: 0.9078 - accuracy: 0.6364 - val_loss: 1.1412 - val_accuracy: 0.5536\n",
      "Epoch 9/40\n",
      "5/5 [==============================] - 0s 44ms/step - loss: 0.8230 - accuracy: 0.7121 - val_loss: 1.0738 - val_accuracy: 0.6071\n",
      "Epoch 10/40\n",
      "5/5 [==============================] - 0s 44ms/step - loss: 0.6992 - accuracy: 0.7652 - val_loss: 1.0174 - val_accuracy: 0.6250\n",
      "Epoch 11/40\n",
      "5/5 [==============================] - 0s 40ms/step - loss: 0.6399 - accuracy: 0.7500 - val_loss: 1.0557 - val_accuracy: 0.6071\n",
      "Epoch 12/40\n",
      "5/5 [==============================] - 0s 44ms/step - loss: 0.5128 - accuracy: 0.8030 - val_loss: 0.9027 - val_accuracy: 0.6964\n",
      "Epoch 13/40\n",
      "5/5 [==============================] - 0s 53ms/step - loss: 0.4557 - accuracy: 0.8333 - val_loss: 1.0220 - val_accuracy: 0.6786\n",
      "Epoch 14/40\n",
      "5/5 [==============================] - 0s 40ms/step - loss: 0.5026 - accuracy: 0.8409 - val_loss: 1.0979 - val_accuracy: 0.5893\n",
      "Epoch 15/40\n",
      "5/5 [==============================] - 0s 38ms/step - loss: 0.5269 - accuracy: 0.8106 - val_loss: 1.0122 - val_accuracy: 0.6429\n",
      "Epoch 16/40\n",
      "5/5 [==============================] - 0s 39ms/step - loss: 0.3571 - accuracy: 0.8788 - val_loss: 0.9316 - val_accuracy: 0.5714\n",
      "Epoch 17/40\n",
      "5/5 [==============================] - 0s 40ms/step - loss: 0.3269 - accuracy: 0.8788 - val_loss: 0.9646 - val_accuracy: 0.6964\n",
      "Epoch 18/40\n",
      "5/5 [==============================] - 0s 38ms/step - loss: 0.3331 - accuracy: 0.8712 - val_loss: 0.8834 - val_accuracy: 0.6607\n",
      "Epoch 19/40\n",
      "5/5 [==============================] - 0s 39ms/step - loss: 0.2745 - accuracy: 0.8864 - val_loss: 0.9383 - val_accuracy: 0.6607\n",
      "Epoch 20/40\n",
      "5/5 [==============================] - 0s 40ms/step - loss: 0.2715 - accuracy: 0.9091 - val_loss: 0.9069 - val_accuracy: 0.6607\n",
      "Epoch 21/40\n",
      "5/5 [==============================] - 0s 34ms/step - loss: 0.3201 - accuracy: 0.8788 - val_loss: 0.8558 - val_accuracy: 0.7143\n",
      "Epoch 22/40\n",
      "5/5 [==============================] - 0s 31ms/step - loss: 0.3322 - accuracy: 0.8485 - val_loss: 0.8181 - val_accuracy: 0.6607\n",
      "Epoch 23/40\n",
      "5/5 [==============================] - 0s 33ms/step - loss: 0.2506 - accuracy: 0.9015 - val_loss: 0.8509 - val_accuracy: 0.6607\n",
      "Epoch 24/40\n",
      "5/5 [==============================] - 0s 40ms/step - loss: 0.2335 - accuracy: 0.9091 - val_loss: 1.1151 - val_accuracy: 0.6250\n",
      "Epoch 25/40\n",
      "5/5 [==============================] - 0s 34ms/step - loss: 0.4380 - accuracy: 0.8182 - val_loss: 0.9142 - val_accuracy: 0.6607\n",
      "Epoch 26/40\n",
      "5/5 [==============================] - 0s 34ms/step - loss: 0.3111 - accuracy: 0.8864 - val_loss: 0.9851 - val_accuracy: 0.6607\n",
      "Epoch 27/40\n",
      "5/5 [==============================] - 0s 37ms/step - loss: 0.2851 - accuracy: 0.9091 - val_loss: 0.8089 - val_accuracy: 0.6607\n",
      "Epoch 28/40\n",
      "5/5 [==============================] - 0s 36ms/step - loss: 0.1696 - accuracy: 0.9394 - val_loss: 0.9456 - val_accuracy: 0.6964\n",
      "Epoch 29/40\n",
      "5/5 [==============================] - 0s 41ms/step - loss: 0.2176 - accuracy: 0.9318 - val_loss: 0.8057 - val_accuracy: 0.6429\n",
      "Epoch 30/40\n",
      "5/5 [==============================] - 0s 33ms/step - loss: 0.3371 - accuracy: 0.9015 - val_loss: 0.9866 - val_accuracy: 0.7143\n",
      "Epoch 31/40\n",
      "5/5 [==============================] - 0s 35ms/step - loss: 0.3404 - accuracy: 0.8712 - val_loss: 1.0983 - val_accuracy: 0.6607\n",
      "Epoch 32/40\n",
      "5/5 [==============================] - 0s 53ms/step - loss: 0.1938 - accuracy: 0.9394 - val_loss: 1.0041 - val_accuracy: 0.6786\n",
      "Epoch 33/40\n",
      "5/5 [==============================] - 0s 63ms/step - loss: 0.2297 - accuracy: 0.9242 - val_loss: 0.9049 - val_accuracy: 0.6964\n",
      "Epoch 34/40\n",
      "5/5 [==============================] - 0s 56ms/step - loss: 0.1843 - accuracy: 0.9545 - val_loss: 0.9604 - val_accuracy: 0.6607\n",
      "Epoch 35/40\n",
      "5/5 [==============================] - 0s 46ms/step - loss: 0.1214 - accuracy: 0.9697 - val_loss: 0.9009 - val_accuracy: 0.6786\n",
      "Epoch 36/40\n",
      "5/5 [==============================] - 0s 44ms/step - loss: 0.1381 - accuracy: 0.9545 - val_loss: 0.8980 - val_accuracy: 0.7321\n",
      "Epoch 37/40\n",
      "5/5 [==============================] - 0s 42ms/step - loss: 0.1099 - accuracy: 0.9621 - val_loss: 0.9000 - val_accuracy: 0.6964\n",
      "Epoch 38/40\n",
      "5/5 [==============================] - 0s 55ms/step - loss: 0.2133 - accuracy: 0.9242 - val_loss: 1.0608 - val_accuracy: 0.6071\n",
      "Epoch 39/40\n",
      "5/5 [==============================] - 0s 45ms/step - loss: 0.1689 - accuracy: 0.9545 - val_loss: 1.0819 - val_accuracy: 0.7143\n",
      "Epoch 40/40\n",
      "5/5 [==============================] - 0s 52ms/step - loss: 0.1222 - accuracy: 0.9545 - val_loss: 0.9720 - val_accuracy: 0.7321\n"
     ]
    },
    {
     "data": {
      "text/plain": [
       "<keras.callbacks.History at 0x23e8f8df190>"
      ]
     },
     "execution_count": 90,
     "metadata": {},
     "output_type": "execute_result"
    }
   ],
   "source": [
    "model.compile(loss=keras.losses.CategoricalCrossentropy(from_logits=True), optimizer='adam', metrics=['accuracy'])\n",
    "\n",
    "model.fit(x_train, y_train, epochs=40, batch_size = 32, shuffle=True, validation_data=(x_val, y_val))"
   ]
  },
  {
   "cell_type": "code",
   "execution_count": 91,
   "metadata": {},
   "outputs": [
    {
     "name": "stdout",
     "output_type": "stream",
     "text": [
      "2/2 [==============================] - 0s 20ms/step - loss: 0.9720 - accuracy: 0.7321\n",
      "\n",
      "Test accuracy =  0.7321428656578064\n"
     ]
    }
   ],
   "source": [
    "x_test = vectorizer(np.array([[s] for s in X_test])).numpy()\n",
    "loss, acc = model.evaluate(x_test, test_labels)\n",
    "print(\"Test accuracy = \", acc)\n"
   ]
  },
  {
   "cell_type": "code",
   "execution_count": 75,
   "metadata": {},
   "outputs": [
    {
     "name": "stdout",
     "output_type": "stream",
     "text": [
      "Expected emoji:😄 prediction: he got a very nice raise❤️\n",
      "Expected emoji:😄 prediction: she got me a nice present❤️\n",
      "Expected emoji:😄 prediction: We had such a lovely dinner tonight🍴\n",
      "Expected emoji:😞 prediction: work is hard😄\n",
      "Expected emoji:😞 prediction: This girl is messing with me❤️\n",
      "Expected emoji:😞 prediction: work is horrible😄\n",
      "Expected emoji:😄 prediction: Congratulation for having a baby❤️\n",
      "Expected emoji:😄 prediction: you brighten my day❤️\n",
      "Expected emoji:🍴 prediction: I boiled rice😞\n",
      "Expected emoji:😞 prediction: she is a bully❤️\n",
      "Expected emoji:❤️ prediction: My grandmother is the love of my life😄\n",
      "Expected emoji:😄 prediction: will you be my valentine❤️\n",
      "Expected emoji:⚾️ prediction: he can pitch really well😞\n",
      "Expected emoji:😄 prediction: I like to laugh❤️\n",
      "Expected emoji:😄 prediction: What you did was awesome😞\n",
      "Expected emoji:😞 prediction: go away⚾️\n",
      "Expected emoji:❤️ prediction: family is all I have😞\n",
      "Expected emoji:😄 prediction: You deserve this nice prize😞\n",
      "Expected emoji:🍴 prediction: I did not have breakfast 😞\n"
     ]
    }
   ],
   "source": [
    "# This code allows you to see the mislabelled examples\n",
    "string_input = keras.Input(shape=(1,), dtype=\"string\")\n",
    "x = vectorizer(string_input)\n",
    "x = model(x)\n",
    "# Add a softmax activation\n",
    "outputs =  keras.layers.Activation('softmax')(x)\n",
    "end_to_end_model = keras.Model(string_input, outputs)\n",
    "\n",
    "probabilities = end_to_end_model(\n",
    "        tf.convert_to_tensor(X_test)\n",
    ")\n",
    "for i in range(len(X_test)):\n",
    "    num = np.argmax(probabilities[i])\n",
    "    if(num != y_test[i]):\n",
    "        print('Expected emoji:'+ label_to_emoji(y_test[i]) + ' prediction: '+ X_test[i] + label_to_emoji(num).strip())"
   ]
  },
  {
   "cell_type": "code",
   "execution_count": null,
   "metadata": {},
   "outputs": [],
   "source": []
  },
  {
   "cell_type": "code",
   "execution_count": null,
   "metadata": {},
   "outputs": [],
   "source": []
  }
 ],
 "metadata": {
  "kernelspec": {
   "display_name": "Python 3",
   "language": "python",
   "name": "python3"
  },
  "language_info": {
   "codemirror_mode": {
    "name": "ipython",
    "version": 3
   },
   "file_extension": ".py",
   "mimetype": "text/x-python",
   "name": "python",
   "nbconvert_exporter": "python",
   "pygments_lexer": "ipython3",
   "version": "3.9.18"
  }
 },
 "nbformat": 4,
 "nbformat_minor": 2
}
