{
 "cells": [
  {
   "cell_type": "code",
   "execution_count": null,
   "metadata": {},
   "outputs": [],
   "source": [
    "# Parameters for the exponential distribution\n",
    "lambda_param = 0.5  # Rate parameter (inverse of the mean)\n",
    "\n",
    "# Generate random samples from an exponential distribution\n",
    "num_samples = 1000\n",
    "exponential_samples = np.random.exponential(scale=1/lambda_param, size=num_samples)\n",
    "\n",
    "# Plot histogram of the generated samples\n",
    "plt.hist(exponential_samples, bins=30, density=True, alpha=0.7, color='blue')\n"
   ]
  },
  {
   "cell_type": "code",
   "execution_count": null,
   "metadata": {},
   "outputs": [],
   "source": [
    "# Plot histogram of the generated samples\n",
    "plt.hist(np.log(exponential_samples+0.05), bins=50, density=True, alpha=0.7, color='blue')\n",
    "plt.xlabel('Value')\n",
    "plt.ylabel('Density')\n",
    "plt.title('Histogram of Pareto Distribution')\n",
    "plt.grid(True)\n",
    "plt.show()"
   ]
  },
  {
   "cell_type": "code",
   "execution_count": null,
   "metadata": {},
   "outputs": [],
   "source": [
    "from scipy.stats import boxcox\n",
    "exponential_samples = boxcox(exponential_samples, 0.3)\n",
    "sns.kdeplot(exponential_samples, fill=True)"
   ]
  }
 ],
 "metadata": {
  "language_info": {
   "name": "python"
  }
 },
 "nbformat": 4,
 "nbformat_minor": 2
}
